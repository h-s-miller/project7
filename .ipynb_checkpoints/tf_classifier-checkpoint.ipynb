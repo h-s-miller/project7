{
 "cells": [
  {
   "cell_type": "markdown",
   "id": "4f076c72-ee4e-49cd-a4f1-e24a20a4aae1",
   "metadata": {},
   "source": [
    "# Application 2: Transcription Factor Classifier "
   ]
  },
  {
   "cell_type": "code",
   "execution_count": 1,
   "id": "9c25502a-49d4-4348-ac34-48873390fbd7",
   "metadata": {},
   "outputs": [],
   "source": [
    "from nn import NeuralNetwork\n",
    "from preprocess import one_hot_encode_seqs, sample_seqs\n",
    "from seq_io import read_fasta_file, read_text_file\n",
    "import numpy as np\n",
    "import matplotlib.pyplot as plt\n",
    "from sklearn.model_selection import train_test_split \n",
    "from random import randrange"
   ]
  },
  {
   "cell_type": "markdown",
   "id": "98cdee63-538d-44ee-abf6-0d0cb481069f",
   "metadata": {},
   "source": [
    "## 1. Read in data & downsample the sequence length in neg samples"
   ]
  },
  {
   "cell_type": "code",
   "execution_count": 2,
   "id": "817c831e-0450-46b2-975a-80d885324bb8",
   "metadata": {},
   "outputs": [],
   "source": [
    "pos = open('../data/rap1-lieb-positives.txt').read().split(\"\\n\")\n",
    "neg = read_fasta_file('../data/yeast-upstream-1k-negative.fa')"
   ]
  },
  {
   "cell_type": "code",
   "execution_count": 3,
   "id": "c70b9c82-c565-4554-b2b4-d6bd252c0e05",
   "metadata": {},
   "outputs": [
    {
     "data": {
      "text/plain": [
       "17"
      ]
     },
     "execution_count": 3,
     "metadata": {},
     "output_type": "execute_result"
    }
   ],
   "source": [
    "pos_seq_length=len(pos[0])\n",
    "pos_seq_length"
   ]
  },
  {
   "cell_type": "code",
   "execution_count": null,
   "id": "10d58777-8b8d-4bfe-ba5c-0b866d8adc23",
   "metadata": {},
   "outputs": [],
   "source": []
  },
  {
   "cell_type": "code",
   "execution_count": 4,
   "id": "322e3657-6cd7-4a81-917a-f12331ba4388",
   "metadata": {},
   "outputs": [
    {
     "data": {
      "text/plain": [
       "1000"
      ]
     },
     "execution_count": 4,
     "metadata": {},
     "output_type": "execute_result"
    }
   ],
   "source": [
    "neg_seq_length=len(neg[0])\n",
    "neg_seq_length"
   ]
  },
  {
   "cell_type": "code",
   "execution_count": 5,
   "id": "f630e430-2f49-4526-8d39-0d1004493aae",
   "metadata": {},
   "outputs": [],
   "source": [
    "short_neg=[]\n",
    "for seq in neg:\n",
    "    x=randrange(0,neg_seq_length-pos_seq_length) # start of subset \n",
    "    new_seq=seq[x:x+pos_seq_length]\n",
    "    if len(new_seq)==17:\n",
    "        short_neg.append(new_seq)"
   ]
  },
  {
   "cell_type": "code",
   "execution_count": 6,
   "id": "9c654fd0-8365-4ed3-8a61-8656a22202e0",
   "metadata": {},
   "outputs": [],
   "source": [
    "seqs=pos+short_neg\n",
    "pos_labels=[1]*len(pos)\n",
    "neg_labels=[0]*len(neg)\n",
    "labels=pos_labels+neg_labels"
   ]
  },
  {
   "cell_type": "markdown",
   "id": "5f97d5aa-9376-47cc-a260-7d4259ee431f",
   "metadata": {},
   "source": [
    "## 2. Sampling Scheme & one hot encoding \n",
    "\n",
    "To correct for class imbalance, I upsampled the positive samples using sampling with replacement to have the same number of samples as positive samples. I did upsampling as opposed to downsampling because there are a small number of positve samples. "
   ]
  },
  {
   "cell_type": "code",
   "execution_count": 7,
   "id": "924dc25e-fc0a-49d0-b3ae-14f51ec1bd04",
   "metadata": {},
   "outputs": [],
   "source": [
    "sampled_seqs, sampled_labels=sample_seqs(seqs, labels)"
   ]
  },
  {
   "cell_type": "code",
   "execution_count": 8,
   "id": "1432f6fa-6683-4813-8b1b-803dd150b5fc",
   "metadata": {},
   "outputs": [
    {
     "data": {
      "text/plain": [
       "68"
      ]
     },
     "execution_count": 8,
     "metadata": {},
     "output_type": "execute_result"
    }
   ],
   "source": [
    "encoded_seqs = [one_hot_encode_seqs(x) for x in sampled_seqs]\n",
    "len(encoded_seqs[0])"
   ]
  },
  {
   "cell_type": "markdown",
   "id": "14056b24-866b-4bec-b9ec-0cd33c7757d1",
   "metadata": {},
   "source": [
    "## 3. Training and validation set "
   ]
  },
  {
   "cell_type": "code",
   "execution_count": 9,
   "id": "121c5a7a-ac96-45b6-8fed-6c112c4def05",
   "metadata": {},
   "outputs": [],
   "source": [
    "X_train, X_val, y_train, y_val = train_test_split(encoded_seqs, sampled_labels,\n",
    "                                                 test_size=0.2,\n",
    "                                                 random_state=0)"
   ]
  },
  {
   "cell_type": "code",
   "execution_count": 10,
   "id": "dbd4fdcf-61c7-430b-9b31-56dafba6195f",
   "metadata": {},
   "outputs": [],
   "source": [
    "#data shape = samples x encoded seq \n",
    "X_train=np.vstack(X_train)\n",
    "X_val=np.vstack(X_val)\n",
    "y_train=np.array(y_train)\n",
    "y_val=np.array(y_val)"
   ]
  },
  {
   "cell_type": "markdown",
   "id": "ebdb8d4a-df3a-4283-8c36-5b32d55bac67",
   "metadata": {},
   "source": [
    "## 4. Train!"
   ]
  },
  {
   "cell_type": "code",
   "execution_count": 11,
   "id": "c74794ee-49ad-45f2-ac4c-75e714f28ae3",
   "metadata": {},
   "outputs": [],
   "source": [
    "lr_=0.1\n",
    "epochs_=100\n",
    "loss_='bce'\n",
    "arch = [{'input_dim': 68, 'output_dim': 34, 'activation': 'sigmoid'},\n",
    "       {'input_dim': 34, 'output_dim': 1, 'activation': 'sigmoid'}]\n",
    "\n",
    "# instantiate model with arch and written params\n",
    "nn= NeuralNetwork(arch, lr=lr_, seed=36, batch_size=1,\n",
    "                  epochs=epochs_, loss_function = loss_)"
   ]
  },
  {
   "cell_type": "code",
   "execution_count": 12,
   "id": "1cda67f3-68c8-435d-a21c-fec555a08467",
   "metadata": {},
   "outputs": [
    {
     "data": {
      "text/plain": [
       "(5057,)"
      ]
     },
     "execution_count": 12,
     "metadata": {},
     "output_type": "execute_result"
    }
   ],
   "source": [
    "y_train.shape"
   ]
  },
  {
   "cell_type": "code",
   "execution_count": 13,
   "id": "069b3e16-31d0-44ba-97f1-ce68e1eef562",
   "metadata": {},
   "outputs": [
    {
     "ename": "ValueError",
     "evalue": "matmul: Input operand 1 has a mismatch in its core dimension 0, with gufunc signature (n?,k),(k,m?)->(n?,m?) (size 34 is different from 5057)",
     "output_type": "error",
     "traceback": [
      "\u001b[0;31m---------------------------------------------------------------------------\u001b[0m",
      "\u001b[0;31mValueError\u001b[0m                                Traceback (most recent call last)",
      "\u001b[0;32m/var/folders/70/t96qvy6n0z9985j9fbhk2dnc0000gn/T/ipykernel_64228/2144326640.py\u001b[0m in \u001b[0;36m<module>\u001b[0;34m\u001b[0m\n\u001b[0;32m----> 1\u001b[0;31m \u001b[0mtrain_loss\u001b[0m\u001b[0;34m,\u001b[0m \u001b[0mval_loss\u001b[0m \u001b[0;34m=\u001b[0m \u001b[0mnn\u001b[0m\u001b[0;34m.\u001b[0m\u001b[0mfit\u001b[0m\u001b[0;34m(\u001b[0m\u001b[0mX_train\u001b[0m\u001b[0;34m,\u001b[0m \u001b[0my_train\u001b[0m\u001b[0;34m,\u001b[0m \u001b[0mX_val\u001b[0m\u001b[0;34m,\u001b[0m \u001b[0my_val\u001b[0m\u001b[0;34m)\u001b[0m\u001b[0;34m\u001b[0m\u001b[0;34m\u001b[0m\u001b[0m\n\u001b[0m",
      "\u001b[0;32m~/algo/project7/nn/nn.py\u001b[0m in \u001b[0;36mfit\u001b[0;34m(self, X_train, y_train, X_val, y_val)\u001b[0m\n\u001b[1;32m    326\u001b[0m \u001b[0;34m\u001b[0m\u001b[0m\n\u001b[1;32m    327\u001b[0m                 \u001b[0;31m### Forward pass: get y_hat--predicted labels ###\u001b[0m\u001b[0;34m\u001b[0m\u001b[0;34m\u001b[0m\u001b[0m\n\u001b[0;32m--> 328\u001b[0;31m                 \u001b[0my_hat\u001b[0m\u001b[0;34m,\u001b[0m \u001b[0mcache\u001b[0m \u001b[0;34m=\u001b[0m \u001b[0mself\u001b[0m\u001b[0;34m.\u001b[0m\u001b[0mforward\u001b[0m\u001b[0;34m(\u001b[0m\u001b[0mX\u001b[0m\u001b[0;34m)\u001b[0m\u001b[0;34m\u001b[0m\u001b[0;34m\u001b[0m\u001b[0m\n\u001b[0m\u001b[1;32m    329\u001b[0m \u001b[0;34m\u001b[0m\u001b[0m\n\u001b[1;32m    330\u001b[0m                 \u001b[0;31m### calculate loss of predicted labels and save output###\u001b[0m\u001b[0;34m\u001b[0m\u001b[0;34m\u001b[0m\u001b[0m\n",
      "\u001b[0;32m~/algo/project7/nn/nn.py\u001b[0m in \u001b[0;36mforward\u001b[0;34m(self, X)\u001b[0m\n\u001b[1;32m    146\u001b[0m             \u001b[0mb_curr\u001b[0m\u001b[0;34m=\u001b[0m\u001b[0mself\u001b[0m\u001b[0;34m.\u001b[0m\u001b[0m_param_dict\u001b[0m\u001b[0;34m[\u001b[0m\u001b[0;34m'b'\u001b[0m\u001b[0;34m+\u001b[0m\u001b[0mstr\u001b[0m\u001b[0;34m(\u001b[0m\u001b[0mlayer_idx\u001b[0m\u001b[0;34m)\u001b[0m\u001b[0;34m]\u001b[0m\u001b[0;34m\u001b[0m\u001b[0;34m\u001b[0m\u001b[0m\n\u001b[1;32m    147\u001b[0m             \u001b[0;31m## calculate forward pass ##\u001b[0m\u001b[0;34m\u001b[0m\u001b[0;34m\u001b[0m\u001b[0m\n\u001b[0;32m--> 148\u001b[0;31m             \u001b[0mA_curr\u001b[0m\u001b[0;34m,\u001b[0m \u001b[0mZ_curr\u001b[0m \u001b[0;34m=\u001b[0m \u001b[0mself\u001b[0m\u001b[0;34m.\u001b[0m\u001b[0m_single_forward\u001b[0m\u001b[0;34m(\u001b[0m\u001b[0mW_curr\u001b[0m\u001b[0;34m,\u001b[0m \u001b[0mb_curr\u001b[0m\u001b[0;34m,\u001b[0m \u001b[0mA_prev\u001b[0m\u001b[0;34m,\u001b[0m \u001b[0mlayer\u001b[0m\u001b[0;34m[\u001b[0m\u001b[0;34m'activation'\u001b[0m\u001b[0;34m]\u001b[0m\u001b[0;34m)\u001b[0m\u001b[0;34m\u001b[0m\u001b[0;34m\u001b[0m\u001b[0m\n\u001b[0m\u001b[1;32m    149\u001b[0m \u001b[0;34m\u001b[0m\u001b[0m\n\u001b[1;32m    150\u001b[0m             \u001b[0;31m## save A and Z ##\u001b[0m\u001b[0;34m\u001b[0m\u001b[0;34m\u001b[0m\u001b[0m\n",
      "\u001b[0;32m~/algo/project7/nn/nn.py\u001b[0m in \u001b[0;36m_single_forward\u001b[0;34m(self, W_curr, b_curr, A_prev, activation)\u001b[0m\n\u001b[1;32m    104\u001b[0m         \"\"\"\n\u001b[1;32m    105\u001b[0m         \u001b[0;31m## Calculate Z=A*W+b ##\u001b[0m\u001b[0;34m\u001b[0m\u001b[0;34m\u001b[0m\u001b[0m\n\u001b[0;32m--> 106\u001b[0;31m         \u001b[0mZ_curr\u001b[0m\u001b[0;34m=\u001b[0m\u001b[0mA_prev\u001b[0m\u001b[0;34m.\u001b[0m\u001b[0mT\u001b[0m\u001b[0;34m@\u001b[0m\u001b[0mW_curr\u001b[0m\u001b[0;34m+\u001b[0m\u001b[0mb_curr\u001b[0m\u001b[0;34m\u001b[0m\u001b[0;34m\u001b[0m\u001b[0m\n\u001b[0m\u001b[1;32m    107\u001b[0m \u001b[0;34m\u001b[0m\u001b[0m\n\u001b[1;32m    108\u001b[0m         \u001b[0;31m## Activation ##\u001b[0m\u001b[0;34m\u001b[0m\u001b[0;34m\u001b[0m\u001b[0m\n",
      "\u001b[0;31mValueError\u001b[0m: matmul: Input operand 1 has a mismatch in its core dimension 0, with gufunc signature (n?,k),(k,m?)->(n?,m?) (size 34 is different from 5057)"
     ]
    }
   ],
   "source": [
    "train_loss, val_loss = nn.fit(X_train, y_train, X_val, y_val)"
   ]
  }
 ],
 "metadata": {
  "kernelspec": {
   "display_name": "Python 3 (ipykernel)",
   "language": "python",
   "name": "python3"
  },
  "language_info": {
   "codemirror_mode": {
    "name": "ipython",
    "version": 3
   },
   "file_extension": ".py",
   "mimetype": "text/x-python",
   "name": "python",
   "nbconvert_exporter": "python",
   "pygments_lexer": "ipython3",
   "version": "3.9.7"
  }
 },
 "nbformat": 4,
 "nbformat_minor": 5
}
