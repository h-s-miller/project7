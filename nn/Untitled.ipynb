{
 "cells": [
  {
   "cell_type": "markdown",
   "id": "4f076c72-ee4e-49cd-a4f1-e24a20a4aae1",
   "metadata": {},
   "source": [
    "# Application 2: Transcription Factor Classifier "
   ]
  },
  {
   "cell_type": "code",
   "execution_count": null,
   "id": "9c25502a-49d4-4348-ac34-48873390fbd7",
   "metadata": {},
   "outputs": [],
   "source": []
  }
 ],
 "metadata": {
  "kernelspec": {
   "display_name": "Python 3 (ipykernel)",
   "language": "python",
   "name": "python3"
  },
  "language_info": {
   "codemirror_mode": {
    "name": "ipython",
    "version": 3
   },
   "file_extension": ".py",
   "mimetype": "text/x-python",
   "name": "python",
   "nbconvert_exporter": "python",
   "pygments_lexer": "ipython3",
   "version": "3.9.7"
  }
 },
 "nbformat": 4,
 "nbformat_minor": 5
}
